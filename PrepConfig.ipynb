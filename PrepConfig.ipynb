{
 "cells": [
  {
   "cell_type": "code",
   "execution_count": 1,
   "id": "9f678c04",
   "metadata": {},
   "outputs": [],
   "source": [
    "import numpy as np\n",
    "import os\n",
    "import shutil"
   ]
  },
  {
   "cell_type": "code",
   "execution_count": 2,
   "id": "e218e451",
   "metadata": {},
   "outputs": [],
   "source": [
    "for folder in os.listdir('.'):\n",
    "    if 'config' in folder and folder!='config' and 'zip' not in folder and '.' not in folder:\n",
    "        shutil.rmtree(folder)"
   ]
  },
  {
   "cell_type": "code",
   "execution_count": 3,
   "id": "89cbee19",
   "metadata": {},
   "outputs": [],
   "source": [
    "total_count = 8\n",
    "\n",
    "\n",
    "replica_count = 4\n",
    "\n",
    "n_clusters = int(total_count / replica_count)"
   ]
  },
  {
   "cell_type": "code",
   "execution_count": 4,
   "id": "579945bb",
   "metadata": {},
   "outputs": [],
   "source": [
    "clusterIpMap = {}\n",
    "\n",
    "clusterIpMap[0] = '172.17.0.2'\n",
    "clusterIpMap[1] = '172.17.0.3'\n",
    "clusterIpMap[2] = '172.17.0.4'\n",
    "clusterIpMap[3] = '172.17.0.5'\n",
    "clusterIpMap[4] = '172.17.0.7'\n",
    "clusterIpMap[5] = '172.17.0.8'\n",
    "clusterIpMap[6] = '172.17.0.9'\n",
    "clusterIpMap[7] = '172.17.0.10'\n",
    "clusterIpMap[8] = '172.17.0.11'\n",
    "clusterIpMap[9] = '172.17.0.12'\n",
    "clusterIpMap[10] = '172.17.0.13'\n",
    "clusterIpMap[11] = '172.17.0.14'\n",
    "clusterIpMap[12] = '172.17.0.15'\n",
    "clusterIpMap[13] = '172.17.0.16'\n",
    "clusterIpMap[14] = '172.17.0.17'\n",
    "clusterIpMap[15] = '172.17.0.18'\n",
    "clusterIpMap[7001] = '172.17.0.6'\n",
    "\n",
    "\n",
    "\n",
    "clusterPortMap1 = {}\n",
    "clusterPortMap2 = {}\n",
    "\n",
    "for i in range(total_count):\n",
    "    \n",
    "    clusterPortMap1[i] = str(11000+i*10)\n",
    "    \n",
    "for i in range(total_count):\n",
    "    clusterPortMap2[i] = str(11000+i*10+1)\n",
    "    \n",
    "clusterPortMap1[7001] = '11100'\n",
    "clusterPortMap2[7001] = '11100'\n",
    "\n"
   ]
  },
  {
   "cell_type": "code",
   "execution_count": 5,
   "id": "d0383f53",
   "metadata": {},
   "outputs": [
    {
     "data": {
      "text/plain": [
       "({0: '11000',\n",
       "  1: '11010',\n",
       "  2: '11020',\n",
       "  3: '11030',\n",
       "  4: '11040',\n",
       "  5: '11050',\n",
       "  6: '11060',\n",
       "  7: '11070',\n",
       "  7001: '11100'},\n",
       " {0: '11001',\n",
       "  1: '11011',\n",
       "  2: '11021',\n",
       "  3: '11031',\n",
       "  4: '11041',\n",
       "  5: '11051',\n",
       "  6: '11061',\n",
       "  7: '11071',\n",
       "  7001: '11100'})"
      ]
     },
     "execution_count": 5,
     "metadata": {},
     "output_type": "execute_result"
    }
   ],
   "source": [
    "clusterPortMap1, clusterPortMap2"
   ]
  },
  {
   "cell_type": "code",
   "execution_count": 6,
   "id": "62bd80e8",
   "metadata": {},
   "outputs": [
    {
     "data": {
      "text/plain": [
       "0"
      ]
     },
     "execution_count": 6,
     "metadata": {},
     "output_type": "execute_result"
    }
   ],
   "source": [
    "for i in range(16):\n",
    "    os.system('./runscripts/smartrun.sh bftsmart.tom.util.RSAKeyPairGenerator '+str(i)+' 1024')\n",
    "    \n",
    "os.system('./runscripts/smartrun.sh bftsmart.tom.util.RSAKeyPairGenerator '+str(7001)+' 1024')"
   ]
  },
  {
   "cell_type": "code",
   "execution_count": 7,
   "id": "8c844662",
   "metadata": {},
   "outputs": [],
   "source": [
    "for i in range(n_clusters):\n",
    "    \n",
    "    if os.path.exists('config'+str(i)):\n",
    "        shutil.rmtree('config'+str(i))\n",
    "    \n",
    "    os.mkdir('config'+str(i))\n",
    "    os.mkdir('config'+str(i)+'/keysRSA')\n",
    "    os.mkdir('config'+str(i)+'/keysSunEC')\n",
    "    os.mkdir('config'+str(i)+'/keysECDSA')\n",
    "    \n",
    "    \n",
    "    shutil.copytree('config/workloads/', 'config'+str(i)+'/workloads')\n",
    "    shutil.copytree('config/keysSSL_TLS/', 'config'+str(i)+'/keysSSL_TLS')\n",
    "    \n",
    "    \n",
    "    for file in os.listdir('config/keys/'):\n",
    "    \n",
    "        shutil.copy('config/keys/'+file, 'config'+str(i)+'/keysRSA/'+file)\n",
    "        shutil.copy('config/keys/'+file, 'config'+str(i)+'/keysSunEC/'+file)\n",
    "        shutil.copy('config/keys/'+file, 'config'+str(i)+'/keysECDSA/'+file)\n",
    "    \n",
    "    \n",
    "    shutil.copy('config/system.config', 'config'+str(i)+'/system.config')    \n",
    "    shutil.copy('config/logback.xml', 'config'+str(i)+'/logback.xml')\n",
    "    \n",
    "    \n",
    "    \n",
    "    "
   ]
  },
  {
   "cell_type": "code",
   "execution_count": 8,
   "id": "f6db0f1e",
   "metadata": {},
   "outputs": [],
   "source": [
    "for n_cluster in range(n_clusters):\n",
    "    \n",
    "    with open('config'+str(n_cluster)+'/hosts.config','w') as file:\n",
    "        \n",
    "        for i_replica in range(replica_count):\n",
    "            file.writelines(str(i_replica)+' '+clusterIpMap[n_cluster*replica_count+i_replica]+' '  +clusterPortMap1[n_cluster*replica_count+i_replica]+' ' +  clusterPortMap2[n_cluster*replica_count+i_replica]+'\\n')\n",
    "        file.writelines('7001 '+clusterIpMap[7001]+' '+clusterPortMap1[7001]+'\\n')\n",
    "        file.close()\n",
    "        "
   ]
  },
  {
   "cell_type": "code",
   "execution_count": 9,
   "id": "2b2fd25a",
   "metadata": {},
   "outputs": [],
   "source": [
    "for n_cluster in range(n_clusters):\n",
    "    with open('config'+str(n_cluster)+'/system.config','r') as file:\n",
    "        data = file.readlines()\n",
    "        f = int((replica_count-1)/3)\n",
    "        \n",
    "        for n_line in range(len(data)):\n",
    "            if ('system.servers.num' in data[n_line]) and '#' not in data[n_line]:\n",
    "                \n",
    "                data[n_line] = 'system.servers.num = '+str(replica_count)\n",
    "                \n",
    "            if ('system.servers.f' in data[n_line]) and '#' not in data[n_line]:\n",
    "                data[n_line] = 'system.servers.f = '+str(f)\n",
    "                \n",
    "            if ('system.initial.view' in data[n_line]) and '#' not in data[n_line]:\n",
    "                data[n_line] = 'system.initial.view = '\n",
    "                for iter_view in range(replica_count):\n",
    "                    data[n_line] = data[n_line] +str(iter_view)+','\n",
    "                \n",
    "                data[n_line] = data[n_line][:-1]\n",
    "                \n",
    "                \n",
    "        file.close()\n",
    "        \n",
    "    with open('config'+str(n_cluster)+'/system.config', 'w') as f:\n",
    "        for line in data:\n",
    "            f.write(f\"{line}\\n\")\n",
    "        "
   ]
  },
  {
   "cell_type": "code",
   "execution_count": 10,
   "id": "60b70c58",
   "metadata": {},
   "outputs": [
    {
     "name": "stdout",
     "output_type": "stream",
     "text": [
      "config0/keysRSA/publickey7001 config0/keysRSA/publickey1000\n",
      "config0/keysRSA/publickey7001 config0/keysRSA/publickey1001\n",
      "config0/keysRSA/publickey7001 config0/keysRSA/publickey1002\n",
      "config0/keysRSA/publickey7001 config0/keysRSA/publickey1003\n",
      "config0/keysRSA/publickey7001 config0/keysRSA/publickey1004\n",
      "config0/keysRSA/publickey7001 config0/keysRSA/publickey1005\n",
      "config0/keysRSA/publickey7001 config0/keysRSA/publickey1006\n",
      "config0/keysRSA/publickey7001 config0/keysRSA/publickey1007\n",
      "config0/keysRSA/publickey7001 config0/keysRSA/publickey1008\n",
      "config0/keysRSA/publickey7001 config0/keysRSA/publickey1009\n",
      "config0/keysRSA/publickey7001 config0/keysRSA/publickey1010\n",
      "config1/keysRSA/publickey7001 config1/keysRSA/publickey1000\n",
      "config1/keysRSA/publickey7001 config1/keysRSA/publickey1001\n",
      "config1/keysRSA/publickey7001 config1/keysRSA/publickey1002\n",
      "config1/keysRSA/publickey7001 config1/keysRSA/publickey1003\n",
      "config1/keysRSA/publickey7001 config1/keysRSA/publickey1004\n",
      "config1/keysRSA/publickey7001 config1/keysRSA/publickey1005\n",
      "config1/keysRSA/publickey7001 config1/keysRSA/publickey1006\n",
      "config1/keysRSA/publickey7001 config1/keysRSA/publickey1007\n",
      "config1/keysRSA/publickey7001 config1/keysRSA/publickey1008\n",
      "config1/keysRSA/publickey7001 config1/keysRSA/publickey1009\n",
      "config1/keysRSA/publickey7001 config1/keysRSA/publickey1010\n"
     ]
    }
   ],
   "source": [
    "for n_cluster in range(n_clusters):\n",
    "    for i in range(11):\n",
    "        print('config'+str(n_cluster)+'/keysRSA/'+'publickey7001', \\\n",
    "                    'config'+str(n_cluster)+'/keysRSA/'+'publickey'+str(1000+i))\n",
    "        shutil.copy('config'+str(n_cluster)+'/keysRSA/'+'publickey7001', \\\n",
    "                    'config'+str(n_cluster)+'/keysRSA/'+'publickey'+str(1000+i))\n",
    "        shutil.copy('config'+str(n_cluster)+'/keysRSA/'+'privatekey7001', \\\n",
    "                    'config'+str(n_cluster)+'/keysRSA/'+'privatekey'+str(1000+i))\n",
    "        \n",
    "        shutil.copy('config'+str(n_cluster)+'/keysRSA/'+'publickey7001', \\\n",
    "                    'config'+str(n_cluster)+'/keysRSA/'+'publickey7002')\n",
    "        \n",
    "        shutil.copy('config'+str(n_cluster)+'/keysRSA/'+'privatekey7001', \\\n",
    "                    'config'+str(n_cluster)+'/keysRSA/'+'privatekey7002')"
   ]
  }
 ],
 "metadata": {
  "kernelspec": {
   "display_name": "Python 3 (ipykernel)",
   "language": "python",
   "name": "python3"
  },
  "language_info": {
   "codemirror_mode": {
    "name": "ipython",
    "version": 3
   },
   "file_extension": ".py",
   "mimetype": "text/x-python",
   "name": "python",
   "nbconvert_exporter": "python",
   "pygments_lexer": "ipython3",
   "version": "3.9.12"
  }
 },
 "nbformat": 4,
 "nbformat_minor": 5
}
